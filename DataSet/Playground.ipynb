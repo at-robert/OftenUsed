{
 "cells": [
  {
   "cell_type": "code",
   "execution_count": 1,
   "metadata": {
    "collapsed": true
   },
   "outputs": [],
   "source": [
    "def get_stock_list():\n",
    "    stock_list = [['瑞軒','2489'],['可寧衛','8422'],['中華電信','2412'],['台灣大哥大','3045'],['聯華','1229'],['第一金','2892'],['遠傳電信','4904'],['統一','1216'],['富邦金','2881'],['鴻海','2317'],['台積電','2330']]\n",
    "    stock_list.append(['正新','2105'])\n",
    "    return stock_list"
   ]
  },
  {
   "cell_type": "code",
   "execution_count": 2,
   "metadata": {
    "collapsed": false
   },
   "outputs": [
    {
     "data": {
      "text/plain": [
       "[['瑞軒', '2489'],\n",
       " ['可寧衛', '8422'],\n",
       " ['中華電信', '2412'],\n",
       " ['台灣大哥大', '3045'],\n",
       " ['聯華', '1229'],\n",
       " ['第一金', '2892'],\n",
       " ['遠傳電信', '4904'],\n",
       " ['統一', '1216'],\n",
       " ['富邦金', '2881'],\n",
       " ['鴻海', '2317'],\n",
       " ['台積電', '2330'],\n",
       " ['正新', '2105']]"
      ]
     },
     "execution_count": 2,
     "metadata": {},
     "output_type": "execute_result"
    }
   ],
   "source": [
    "ls = get_stock_list()\n",
    "ls"
   ]
  },
  {
   "cell_type": "code",
   "execution_count": 3,
   "metadata": {
    "collapsed": true
   },
   "outputs": [],
   "source": [
    "def get_stock_thre():\n",
    "    thre_dic = {'第一金':16.5,'聯華':36,'中華電信':105,'台灣大哥大':105,'可寧衛':170,'瑞軒':16,'富邦金':50,'鴻海':91,'台積電':200}\n",
    "    thre_dic['正新'] = 50\n",
    "    return thre_dic"
   ]
  },
  {
   "cell_type": "code",
   "execution_count": 4,
   "metadata": {
    "collapsed": false
   },
   "outputs": [
    {
     "data": {
      "text/plain": [
       "{'中華電信': 105,\n",
       " '可寧衛': 170,\n",
       " '台灣大哥大': 105,\n",
       " '台積電': 200,\n",
       " '富邦金': 50,\n",
       " '正新': 50,\n",
       " '瑞軒': 16,\n",
       " '第一金': 16.5,\n",
       " '聯華': 36,\n",
       " '鴻海': 91}"
      ]
     },
     "execution_count": 4,
     "metadata": {},
     "output_type": "execute_result"
    }
   ],
   "source": [
    "dc = get_stock_thre()\n",
    "dc"
   ]
  },
  {
   "cell_type": "code",
   "execution_count": null,
   "metadata": {
    "collapsed": true
   },
   "outputs": [],
   "source": []
  }
 ],
 "metadata": {
  "anaconda-cloud": {},
  "kernelspec": {
   "display_name": "Python [conda root]",
   "language": "python",
   "name": "conda-root-py"
  },
  "language_info": {
   "codemirror_mode": {
    "name": "ipython",
    "version": 3
   },
   "file_extension": ".py",
   "mimetype": "text/x-python",
   "name": "python",
   "nbconvert_exporter": "python",
   "pygments_lexer": "ipython3",
   "version": "3.5.4"
  }
 },
 "nbformat": 4,
 "nbformat_minor": 2
}

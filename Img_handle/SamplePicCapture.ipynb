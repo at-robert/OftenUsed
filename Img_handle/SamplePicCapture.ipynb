{
 "cells": [
  {
   "cell_type": "code",
   "execution_count": 13,
   "metadata": {
    "collapsed": true
   },
   "outputs": [],
   "source": [
    "import cv2\n",
    "import numpy as np\n",
    "import os\n",
    "import shutil"
   ]
  },
  {
   "cell_type": "code",
   "execution_count": 18,
   "metadata": {
    "collapsed": false
   },
   "outputs": [],
   "source": [
    "# Initialize Webcam\n",
    "cap = cv2.VideoCapture(0)\n",
    "count = 0\n",
    "\n",
    "# To setup desire file path and number of capture\n",
    "MAXPICS = 100\n",
    "dest_folder = './items/bear/'\n",
    "resize_spec = (50,50)\n",
    "\n",
    "\n",
    "if os.path.exists(dest_folder):\n",
    "    shutil.rmtree(dest_folder)\n",
    "os.makedirs(dest_folder)\n"
   ]
  },
  {
   "cell_type": "code",
   "execution_count": 19,
   "metadata": {
    "collapsed": false
   },
   "outputs": [
    {
     "name": "stdout",
     "output_type": "stream",
     "text": [
      "Collecting Samples Complete at 100\n"
     ]
    }
   ],
   "source": [
    "while True:\n",
    "    ret, frame = cap.read()\n",
    "    cv2.imshow('Prepare for capture', frame)\n",
    "    \n",
    "    if cv2.waitKey(1) == 99: #99 is the C Key\n",
    "        cv2.destroyAllWindows()\n",
    "        break\n",
    "\n",
    "# Collect 100 samples of your face from webcam input\n",
    "while True:\n",
    "    ret, frame = cap.read()\n",
    "    count += 1\n",
    "    file_name = dest_folder + str(count) + '.jpg'\n",
    "    bear = cv2.resize(frame, resize_spec)\n",
    "    bear = cv2.cvtColor(bear, cv2.COLOR_BGR2GRAY)\n",
    "\n",
    "    # Save file in specified directory with unique name\n",
    "    cv2.imwrite(file_name, bear)\n",
    "\n",
    "    # Put count on images and display live count\n",
    "    cv2.putText(frame, str(count), resize_spec, cv2.FONT_HERSHEY_COMPLEX, 1, (0,255,0), 2)\n",
    "    cv2.imshow('Item Cropper', frame)\n",
    "\n",
    "    if cv2.waitKey(1) == 13 or count == MAXPICS: #13 is the Enter Key\n",
    "        break\n",
    "        \n",
    "cap.release()\n",
    "cv2.destroyAllWindows()      \n",
    "print(\"Collecting Samples Complete at {}\".format(count))"
   ]
  },
  {
   "cell_type": "code",
   "execution_count": null,
   "metadata": {
    "collapsed": true
   },
   "outputs": [],
   "source": []
  }
 ],
 "metadata": {
  "anaconda-cloud": {},
  "kernelspec": {
   "display_name": "Python [Root]",
   "language": "python",
   "name": "Python [Root]"
  },
  "language_info": {
   "codemirror_mode": {
    "name": "ipython",
    "version": 3
   },
   "file_extension": ".py",
   "mimetype": "text/x-python",
   "name": "python",
   "nbconvert_exporter": "python",
   "pygments_lexer": "ipython3",
   "version": "3.5.2"
  }
 },
 "nbformat": 4,
 "nbformat_minor": 2
}

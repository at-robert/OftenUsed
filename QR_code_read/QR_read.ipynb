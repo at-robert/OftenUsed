{
 "cells": [
  {
   "cell_type": "code",
   "execution_count": 20,
   "metadata": {
    "collapsed": true
   },
   "outputs": [],
   "source": [
    "%matplotlib inline\n",
    "import cv2\n",
    "from matplotlib import pyplot as plt\n",
    "import numpy as np\n",
    "import math\n",
    "\n",
    "def show(img, code=cv2.COLOR_BGR2RGB):\n",
    "    cv_rgb = cv2.cvtColor(img, code)\n",
    "    fig, ax = plt.subplots(figsize=(16, 10))\n",
    "    ax.imshow(cv_rgb)\n",
    "    fig.show()"
   ]
  },
  {
   "cell_type": "code",
   "execution_count": 58,
   "metadata": {
    "collapsed": false
   },
   "outputs": [],
   "source": [
    "def createLineIterator(P1, P2, img):\n",
    "    \"\"\"\n",
    "    Produces and array that consists of the coordinates and intensities of each pixel in a line between two points\n",
    "\n",
    "    Parameters:\n",
    "        -P1: a numpy array that consists of the coordinate of the first point (x,y)\n",
    "        -P2: a numpy array that consists of the coordinate of the second point (x,y)\n",
    "        -img: the image being processed\n",
    "\n",
    "    Returns:\n",
    "        -it: a numpy array that consists of the coordinates and intensities of each pixel in the radii (shape: [numPixels, 3], row = [x,y,intensity])     \n",
    "    \"\"\"\n",
    "    #define local variables for readability\n",
    "    imageH = img.shape[0]\n",
    "    imageW = img.shape[1]\n",
    "    P1X = P1[0]\n",
    "    P1Y = P1[1]\n",
    "    P2X = P2[0]\n",
    "    P2Y = P2[1]\n",
    "\n",
    "    #difference and absolute difference between points\n",
    "    #used to calculate slope and relative location between points\n",
    "    dX = P2X - P1X\n",
    "    dY = P2Y - P1Y\n",
    "    dXa = np.abs(dX)\n",
    "    dYa = np.abs(dY)\n",
    "\n",
    "    #predefine numpy array for output based on distance between points\n",
    "    itbuffer = np.empty(shape=(np.maximum(dYa,dXa),3),dtype=np.float32)\n",
    "    itbuffer.fill(np.nan)\n",
    "\n",
    "    #Obtain coordinates along the line using a form of Bresenham's algorithm\n",
    "    negY = P1Y > P2Y\n",
    "    negX = P1X > P2X\n",
    "    if P1X == P2X: #vertical line segment\n",
    "        itbuffer[:,0] = P1X\n",
    "        if negY:\n",
    "            itbuffer[:,1] = np.arange(P1Y - 1,P1Y - dYa - 1,-1)\n",
    "        else:\n",
    "            itbuffer[:,1] = np.arange(P1Y+1,P1Y+dYa+1)\n",
    "    elif P1Y == P2Y: #horizontal line segment\n",
    "        itbuffer[:,1] = P1Y\n",
    "        if negX:\n",
    "            itbuffer[:,0] = np.arange(P1X-1,P1X-dXa-1,-1)\n",
    "        else:\n",
    "            itbuffer[:,0] = np.arange(P1X+1,P1X+dXa+1)\n",
    "    else: #diagonal line segment\n",
    "        steepSlope = dYa > dXa\n",
    "        if steepSlope:\n",
    "            slope = dX.astype(np.float32)/dY.astype(np.float32)\n",
    "            if negY:\n",
    "                itbuffer[:,1] = np.arange(P1Y-1,P1Y-dYa-1,-1)\n",
    "            else:\n",
    "                itbuffer[:,1] = np.arange(P1Y+1,P1Y+dYa+1)\n",
    "            itbuffer[:,0] = (slope*(itbuffer[:,1]-P1Y)).astype(np.int) + P1X\n",
    "        else:\n",
    "            slope = dY.astype(np.float32)/dX.astype(np.float32)\n",
    "            if negX:\n",
    "                itbuffer[:,0] = np.arange(P1X-1,P1X-dXa-1,-1)\n",
    "            else:\n",
    "                itbuffer[:,0] = np.arange(P1X+1,P1X+dXa+1)\n",
    "            itbuffer[:,1] = (slope*(itbuffer[:,0]-P1X)).astype(np.int) + P1Y\n",
    "\n",
    "    #Remove points outside of image\n",
    "    colX = itbuffer[:,0]\n",
    "    colY = itbuffer[:,1]\n",
    "    itbuffer = itbuffer[(colX >= 0) & (colY >=0) & (colX<imageW) & (colY<imageH)]\n",
    "\n",
    "    #Get intensities from img ndarray\n",
    "    itbuffer[:,2] = img[itbuffer[:,1].astype(np.uint),itbuffer[:,0].astype(np.uint)]\n",
    "\n",
    "    return itbuffer"
   ]
  },
  {
   "cell_type": "code",
   "execution_count": 166,
   "metadata": {
    "collapsed": true
   },
   "outputs": [],
   "source": [
    "def isTimingPattern(line):\n",
    "    # 除去开头结尾的白色像素点\n",
    "#     while line[0] != 0:\n",
    "#         line = line[1:]\n",
    "#     while line[-1] != 0:\n",
    "#         line = line[:-1]\n",
    "        \n",
    "    # 计数连续的黑白像素点\n",
    "    c = []\n",
    "    count = 1\n",
    "    l = line[0]\n",
    "    for p in line[1:]:\n",
    "        if p == l:\n",
    "            count = count + 1\n",
    "        else:\n",
    "            c.append(count)\n",
    "            count = 1\n",
    "        l = p\n",
    "    c.append(count)\n",
    "    # 如果黑白间隔太少，直接排除\n",
    "    if len(c) < 5:\n",
    "        return False\n",
    "    # 计算方差，根据离散程度判断是否是 Timing Pattern\n",
    "    threshold = 5\n",
    "    return np.var(c) < threshold"
   ]
  },
  {
   "cell_type": "code",
   "execution_count": 176,
   "metadata": {
    "collapsed": true
   },
   "outputs": [],
   "source": [
    "def cv_distance(P, Q):\n",
    "    return int(math.sqrt(pow((P[0] - Q[0]), 2) + pow((P[1] - Q[1]),2)))\n",
    "def check(a, b):\n",
    "    # 存储 ab 数组里最短的两点的组合\n",
    "    s1_ab = ()\n",
    "    s2_ab = ()\n",
    "    # 存储 ab 数组里最短的两点的距离，用于比较\n",
    "    s1 = np.iinfo('i').max\n",
    "    s2 = s1\n",
    "    for ai in a:\n",
    "        for bi in b:\n",
    "            d = cv_distance(ai, bi)\n",
    "            if d < s2:\n",
    "                if d < s1:\n",
    "                    s1_ab, s2_ab = (ai, bi), s1_ab\n",
    "                    s1, s2 = d, s1\n",
    "                else:\n",
    "                    s2_ab = (ai, bi)\n",
    "                    s2 = d              \n",
    "    a1, a2 = s1_ab[0], s2_ab[0]\n",
    "    b1, b2 = s1_ab[1], s2_ab[1]\n",
    "    \n",
    "    img_gray = cv2.cvtColor(img, cv2.COLOR_BGR2GRAY)\n",
    "    th, bi_img = cv2.threshold(img_gray, 100, 255, cv2.THRESH_BINARY)\n",
    "    # 将最短的两个线画出来\n",
    "    cv2.line(draw_img, a1, b1, (0,0,255), 3)\n",
    "    cv2.line(draw_img, a2, b2, (0,0,255), 3)\n",
    "    lit1 = createLineIterator(a1,b1,bi_img)\n",
    "    lit2 = createLineIterator(a2,b2,bi_img)\n",
    "        \n",
    "    return True\n",
    "    \n",
    "#     if isTimingPattern(lit1[:,2]):\n",
    "#         return True\n",
    "#     elif isTimingPattern(lit2[:,2]):\n",
    "#         return True\n",
    "#     else:\n",
    "#         return False"
   ]
  },
  {
   "cell_type": "code",
   "execution_count": 95,
   "metadata": {
    "collapsed": false
   },
   "outputs": [
    {
     "name": "stderr",
     "output_type": "stream",
     "text": [
      "/home/swrd/anaconda3/lib/python3.5/site-packages/matplotlib/figure.py:397: UserWarning: matplotlib is currently using a non-GUI backend, so cannot show the figure\n",
      "  \"matplotlib is currently using a non-GUI backend, \"\n"
     ]
    },
    {
     "data": {
      "image/png": "[encoded data removed]",
      "text/plain": [
       "<matplotlib.figure.Figure at 0x7f95e5a9e080>"
      ]
     },
     "metadata": {},
     "output_type": "display_data"
    }
   ],
   "source": [
    "img = cv2.imread('qr-codes-business-cards.jpg')\n",
    "show(img)"
   ]
  },
  {
   "cell_type": "code",
   "execution_count": 96,
   "metadata": {
    "collapsed": false
   },
   "outputs": [],
   "source": [
    "img_gray = cv2.cvtColor(img, cv2.COLOR_BGR2GRAY)\n",
    "img_gb = cv2.GaussianBlur(img_gray, (5, 5), 0)\n",
    "edges = cv2.Canny(img_gray, 100 , 200)"
   ]
  },
  {
   "cell_type": "code",
   "execution_count": 97,
   "metadata": {
    "collapsed": false
   },
   "outputs": [
    {
     "name": "stderr",
     "output_type": "stream",
     "text": [
      "/home/swrd/anaconda3/lib/python3.5/site-packages/matplotlib/figure.py:397: UserWarning: matplotlib is currently using a non-GUI backend, so cannot show the figure\n",
      "  \"matplotlib is currently using a non-GUI backend, \"\n"
     ]
    },
    {
     "data": {
      "image/png": "[encoded data removed]",
      "text/plain": [
       "<matplotlib.figure.Figure at 0x7f95e5a53898>"
      ]
     },
     "metadata": {},
     "output_type": "display_data"
    }
   ],
   "source": [
    "img_fc, contours, hierarchy = cv2.findContours(edges, cv2.RETR_TREE, cv2.CHAIN_APPROX_SIMPLE)\n",
    "hierarchy = hierarchy[0]\n",
    "found = []\n",
    "for i in range(len(contours)):\n",
    "    k = i\n",
    "    c = 0\n",
    "    while hierarchy[k][2] != -1:\n",
    "        k = hierarchy[k][2]\n",
    "        c = c + 1\n",
    "    if c >= 5:\n",
    "        found.append(i)\n",
    "\n",
    "draw_img = img.copy()\n",
    "for i in found:\n",
    "    rect = cv2.minAreaRect(contours[i])\n",
    "    box = cv2.boxPoints(rect)\n",
    "    box = np.int0(box)\n",
    "    cv2.drawContours(draw_img,[box], 0, (0,0,255), 2)\n",
    "show(draw_img)\n",
    "        \n",
    "# for i in found:\n",
    "#     img_dc = img.copy()\n",
    "#     cv2.drawContours(img_dc, contours, i, (0, 255, 0), 3)\n",
    "#     show(img_dc)"
   ]
  },
  {
   "cell_type": "code",
   "execution_count": 177,
   "metadata": {
    "collapsed": false
   },
   "outputs": [],
   "source": [
    "boxes = []\n",
    "for i in found:\n",
    "    rect = cv2.minAreaRect(contours[i])\n",
    "    box = cv2.boxPoints(rect)\n",
    "    box = np.int0(box)\n",
    "#     box = map(tuple, box)\n",
    "    box = [tuple(x) for x in box]\n",
    "    boxes.append(box)"
   ]
  },
  {
   "cell_type": "code",
   "execution_count": 178,
   "metadata": {
    "collapsed": false
   },
   "outputs": [
    {
     "name": "stderr",
     "output_type": "stream",
     "text": [
      "/home/swrd/anaconda3/lib/python3.5/site-packages/matplotlib/figure.py:397: UserWarning: matplotlib is currently using a non-GUI backend, so cannot show the figure\n",
      "  \"matplotlib is currently using a non-GUI backend, \"\n"
     ]
    },
    {
     "data": {
      "image/png": "[encoded data removed]",
      "text/plain": [
       "<matplotlib.figure.Figure at 0x7f95e7fe4400>"
      ]
     },
     "metadata": {},
     "output_type": "display_data"
    }
   ],
   "source": [
    "for i in range(len(boxes)):\n",
    "    for j in range(i+1, len(boxes)):\n",
    "        check(boxes[i], boxes[j])\n",
    "        \n",
    "show(draw_img)"
   ]
  },
  {
   "cell_type": "code",
   "execution_count": 179,
   "metadata": {
    "collapsed": false
   },
   "outputs": [],
   "source": [
    "valid = set()\n",
    "for i in range(len(boxes)):\n",
    "    for j in range(i+1, len(boxes)):\n",
    "        if check(boxes[i], boxes[j]):\n",
    "            valid.add(i)\n",
    "            valid.add(j)\n",
    "# print (valid)"
   ]
  },
  {
   "cell_type": "code",
   "execution_count": 180,
   "metadata": {
    "collapsed": false
   },
   "outputs": [
    {
     "name": "stderr",
     "output_type": "stream",
     "text": [
      "/home/swrd/anaconda3/lib/python3.5/site-packages/matplotlib/figure.py:397: UserWarning: matplotlib is currently using a non-GUI backend, so cannot show the figure\n",
      "  \"matplotlib is currently using a non-GUI backend, \"\n"
     ]
    },
    {
     "data": {
      "image/png": "[encoded data removed]",
      "text/plain": [
       "<matplotlib.figure.Figure at 0x7f95e80a8320>"
      ]
     },
     "metadata": {},
     "output_type": "display_data"
    }
   ],
   "source": [
    "contour_all = []\n",
    "\n",
    "while len(valid) > 0:\n",
    "    c = contours[found[valid.pop()]]\n",
    "    for sublist in c:\n",
    "        for p in sublist:\n",
    "            contour_all.append(p)\n",
    "            \n",
    "rect = cv2.minAreaRect(np.array(contour_all))\n",
    "box = cv2.boxPoints(rect)\n",
    "box = np.array(box)\n",
    "draw_img = img.copy()\n",
    "cv2.polylines(draw_img, np.int32([box]), True, (0, 0, 255), 10)\n",
    "show(draw_img)            "
   ]
  },
  {
   "cell_type": "code",
   "execution_count": null,
   "metadata": {
    "collapsed": true
   },
   "outputs": [],
   "source": []
  }
 ],
 "metadata": {
  "anaconda-cloud": {},
  "kernelspec": {
   "display_name": "Python [Root]",
   "language": "python",
   "name": "Python [Root]"
  },
  "language_info": {
   "codemirror_mode": {
    "name": "ipython",
    "version": 3
   },
   "file_extension": ".py",
   "mimetype": "text/x-python",
   "name": "python",
   "nbconvert_exporter": "python",
   "pygments_lexer": "ipython3",
   "version": "3.5.2"
  }
 },
 "nbformat": 4,
 "nbformat_minor": 2
}
